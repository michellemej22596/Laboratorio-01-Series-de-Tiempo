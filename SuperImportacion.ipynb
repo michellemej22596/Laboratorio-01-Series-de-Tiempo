{
 "cells": [
  {
   "cell_type": "markdown",
   "id": "d82e2f6f",
   "metadata": {},
   "source": [
    "a. Especificaciones de la serie"
   ]
  },
  {
   "cell_type": "markdown",
   "id": "eaf623e5",
   "metadata": {},
   "source": []
  },
  {
   "cell_type": "markdown",
   "id": "f240da4a",
   "metadata": {},
   "source": [
    "b. Gráfico de la serie"
   ]
  },
  {
   "cell_type": "markdown",
   "id": "b7748987",
   "metadata": {},
   "source": []
  }
 ],
 "metadata": {
  "language_info": {
   "name": "python"
  }
 },
 "nbformat": 4,
 "nbformat_minor": 5
}
